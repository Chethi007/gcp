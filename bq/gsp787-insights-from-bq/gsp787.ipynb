{
  "nbformat": 4,
  "nbformat_minor": 0,
  "metadata": {
    "colab": {
      "name": "Qwiklabs GSP787",
      "provenance": [],
      "collapsed_sections": [],
      "toc_visible": true
    },
    "kernelspec": {
      "display_name": "Python 3",
      "name": "python3"
    }
  },
  "cells": [
    {
      "cell_type": "markdown",
      "metadata": {
        "id": "KcAZ2RHCg_Ze"
      },
      "source": [
        "# Before you begin\n",
        "\n",
        "\n",
        "1.   Use the [Cloud Resource Manager](https://console.cloud.google.com/cloud-resource-manager) to Create a Cloud Platform project if you do not already have one.\n",
        "2.   [Enable billing](https://support.google.com/cloud/answer/6293499#enable-billing) for the project.\n",
        "3.   [Enable BigQuery](https://console.cloud.google.com/flows/enableapi?apiid=bigquery) APIs for the project.\n"
      ]
    },
    {
      "cell_type": "markdown",
      "metadata": {
        "id": "qTmLBxDxBAZL"
      },
      "source": [
        "### Provide your credentials to the runtime"
      ]
    },
    {
      "cell_type": "code",
      "metadata": {
        "id": "9uj18hKvXF8y"
      },
      "source": [
        "# If running from cloud-shell, DEVSHELL_PROJECT_ID environment variable may contain project ID.\r\n",
        "# import os\r\n",
        "# project_id = os.getenv(\"DEVSHELL_PROJECT_ID\")\r\n",
        "\r\n",
        "# Otherwise, set project_id manually\r\n",
        "# project_id = 'XXXyourprojectID'"
      ],
      "execution_count": null,
      "outputs": []
    },
    {
      "cell_type": "code",
      "metadata": {
        "colab": {
          "base_uri": "https://localhost:8080/"
        },
        "id": "SeTJb51SKs_W",
        "outputId": "fa551ab9-2d41-4a86-c96d-6585d2359eb7"
      },
      "source": [
        "from google.colab import auth\n",
        "auth.authenticate_user()\n",
        "print('Authenticated')"
      ],
      "execution_count": 1,
      "outputs": [
        {
          "output_type": "stream",
          "text": [
            "Authenticated\n"
          ],
          "name": "stdout"
        }
      ]
    },
    {
      "cell_type": "code",
      "metadata": {
        "id": "hWK0nJWgKs_8"
      },
      "source": [
        "project_id = 'XXX-your-project-id'"
      ],
      "execution_count": 2,
      "outputs": []
    },
    {
      "cell_type": "markdown",
      "metadata": {
        "id": "XEeZ4eippaAR"
      },
      "source": [
        "# GSP 787\r\n",
        "https://www.qwiklabs.com/focuses/11988?parent=catalog\r\n",
        "\r\n"
      ]
    },
    {
      "cell_type": "markdown",
      "metadata": {
        "id": "YS887FhPLdFH"
      },
      "source": [
        "### Query 1: Cumulative confirmed covid-19 cases on April 15th, 2020."
      ]
    },
    {
      "cell_type": "code",
      "metadata": {
        "id": "0msc9GgTLkFB",
        "colab": {
          "base_uri": "https://localhost:8080/",
          "height": 79
        },
        "outputId": "2969e3a1-6e51-467b-c0ee-3c30754e3d2d"
      },
      "source": [
        "#%load_ext google.cloud.bigquery\r\n",
        "#%%bigquery\r\n",
        "\r\n",
        "from google.cloud import bigquery\r\n",
        "client = bigquery.Client(project=project_id)\r\n",
        "#sql = \"\"\"\r\n",
        "#SELECT\r\n",
        "# source_year AS year,\r\n",
        "# COUNT(is_male) AS birth_count\r\n",
        "#FROM `bigquery-public-data.samples.natality`\r\n",
        "#GROUP BY year\r\n",
        "#ORDER BY year DESC\r\n",
        "#LIMIT 15\r\n",
        "#\"\"\"\r\n",
        "\r\n",
        "sql = \"\"\"\r\n",
        "SELECT \r\n",
        "  SUM(cumulative_confirmed) AS total_cases_worldwide\r\n",
        "FROM\r\n",
        "  `bigquery-public-data.covid19_open_data.covid19_open_data`\r\n",
        "WHERE\r\n",
        "  date = \"2020-04-15\"\r\n",
        "\"\"\"\r\n",
        "\r\n",
        "df = client.query(sql).to_dataframe()\r\n",
        "df.head()"
      ],
      "execution_count": 5,
      "outputs": [
        {
          "output_type": "execute_result",
          "data": {
            "text/html": [
              "<div>\n",
              "<style scoped>\n",
              "    .dataframe tbody tr th:only-of-type {\n",
              "        vertical-align: middle;\n",
              "    }\n",
              "\n",
              "    .dataframe tbody tr th {\n",
              "        vertical-align: top;\n",
              "    }\n",
              "\n",
              "    .dataframe thead th {\n",
              "        text-align: right;\n",
              "    }\n",
              "</style>\n",
              "<table border=\"1\" class=\"dataframe\">\n",
              "  <thead>\n",
              "    <tr style=\"text-align: right;\">\n",
              "      <th></th>\n",
              "      <th>total_cases_worldwide</th>\n",
              "    </tr>\n",
              "  </thead>\n",
              "  <tbody>\n",
              "    <tr>\n",
              "      <th>0</th>\n",
              "      <td>5407466</td>\n",
              "    </tr>\n",
              "  </tbody>\n",
              "</table>\n",
              "</div>"
            ],
            "text/plain": [
              "   total_cases_worldwide\n",
              "0                5407466"
            ]
          },
          "metadata": {
            "tags": []
          },
          "execution_count": 5
        }
      ]
    },
    {
      "cell_type": "markdown",
      "metadata": {
        "id": "KSPLQiunqGHg"
      },
      "source": [
        "### Query 2: Worst affected areas"
      ]
    },
    {
      "cell_type": "code",
      "metadata": {
        "colab": {
          "base_uri": "https://localhost:8080/",
          "height": 79
        },
        "id": "Mg1VXz9Jpo-I",
        "outputId": "cfa8f86f-ed52-44e7-d7d8-82f16cdd1d19"
      },
      "source": [
        "from google.colab import syntax\r\n",
        "import pandas as pd\r\n",
        "\r\n",
        "query = syntax.sql('''\r\n",
        "SELECT\r\n",
        "    COUNT(*) AS count_of_states\r\n",
        "FROM (\r\n",
        "SELECT\r\n",
        "    subregion1_name AS state,\r\n",
        "    SUM(cumulative_deceased) AS death_count\r\n",
        "FROM\r\n",
        "  `bigquery-public-data.covid19_open_data.covid19_open_data`\r\n",
        "WHERE\r\n",
        "  country_name=\"United States of America\"\r\n",
        "  AND date='2020-04-10'\r\n",
        "  AND subregion1_name IS NOT NULL\r\n",
        "GROUP BY\r\n",
        "  subregion1_name\r\n",
        ")\r\n",
        "WHERE death_count > 100\r\n",
        "''')\r\n",
        "pd.io.gbq.read_gbq(query, project_id=project_id, dialect='standard')"
      ],
      "execution_count": 6,
      "outputs": [
        {
          "output_type": "execute_result",
          "data": {
            "text/html": [
              "<div>\n",
              "<style scoped>\n",
              "    .dataframe tbody tr th:only-of-type {\n",
              "        vertical-align: middle;\n",
              "    }\n",
              "\n",
              "    .dataframe tbody tr th {\n",
              "        vertical-align: top;\n",
              "    }\n",
              "\n",
              "    .dataframe thead th {\n",
              "        text-align: right;\n",
              "    }\n",
              "</style>\n",
              "<table border=\"1\" class=\"dataframe\">\n",
              "  <thead>\n",
              "    <tr style=\"text-align: right;\">\n",
              "      <th></th>\n",
              "      <th>count_of_states</th>\n",
              "    </tr>\n",
              "  </thead>\n",
              "  <tbody>\n",
              "    <tr>\n",
              "      <th>0</th>\n",
              "      <td>30</td>\n",
              "    </tr>\n",
              "  </tbody>\n",
              "</table>\n",
              "</div>"
            ],
            "text/plain": [
              "   count_of_states\n",
              "0               30"
            ]
          },
          "metadata": {
            "tags": []
          },
          "execution_count": 6
        }
      ]
    },
    {
      "cell_type": "markdown",
      "metadata": {
        "id": "hUvqvQXjNc3V"
      },
      "source": [
        "### Query 3: Identifying hot spots"
      ]
    },
    {
      "cell_type": "code",
      "metadata": {
        "colab": {
          "base_uri": "https://localhost:8080/",
          "height": 1000
        },
        "id": "MFCCBjlkNV87",
        "outputId": "9bbc1342-999b-47e1-c588-0c1cc21fd5a1"
      },
      "source": [
        "\r\n",
        "\r\n",
        "query = syntax.sql('''\r\n",
        "SELECT\r\n",
        "  *\r\n",
        "FROM (\r\n",
        "SELECT \r\n",
        "  subregion1_name as state, \r\n",
        "  sum(cumulative_confirmed) as total_confirmed_cases\r\n",
        "FROM\r\n",
        "  `bigquery-public-data.covid19_open_data.covid19_open_data`\r\n",
        "WHERE\r\n",
        "  country_code=\"US\"\r\n",
        "  AND date='2020-04-10'\r\n",
        "  AND subregion1_name is NOT NULL\r\n",
        "GROUP BY\r\n",
        "  subregion1_name\r\n",
        "ORDER BY\r\n",
        "  total_confirmed_cases DESC\r\n",
        ")\r\n",
        "WHERE\r\n",
        "  total_confirmed_cases > 1000\r\n",
        "\r\n",
        "''')\r\n",
        "pd.io.gbq.read_gbq(query, project_id=project_id, dialect='standard')"
      ],
      "execution_count": 7,
      "outputs": [
        {
          "output_type": "execute_result",
          "data": {
            "text/html": [
              "<div>\n",
              "<style scoped>\n",
              "    .dataframe tbody tr th:only-of-type {\n",
              "        vertical-align: middle;\n",
              "    }\n",
              "\n",
              "    .dataframe tbody tr th {\n",
              "        vertical-align: top;\n",
              "    }\n",
              "\n",
              "    .dataframe thead th {\n",
              "        text-align: right;\n",
              "    }\n",
              "</style>\n",
              "<table border=\"1\" class=\"dataframe\">\n",
              "  <thead>\n",
              "    <tr style=\"text-align: right;\">\n",
              "      <th></th>\n",
              "      <th>state</th>\n",
              "      <th>total_confirmed_cases</th>\n",
              "    </tr>\n",
              "  </thead>\n",
              "  <tbody>\n",
              "    <tr>\n",
              "      <th>0</th>\n",
              "      <td>New York</td>\n",
              "      <td>483142</td>\n",
              "    </tr>\n",
              "    <tr>\n",
              "      <th>1</th>\n",
              "      <td>New Jersey</td>\n",
              "      <td>108527</td>\n",
              "    </tr>\n",
              "    <tr>\n",
              "      <th>2</th>\n",
              "      <td>Michigan</td>\n",
              "      <td>52383</td>\n",
              "    </tr>\n",
              "    <tr>\n",
              "      <th>3</th>\n",
              "      <td>California</td>\n",
              "      <td>43177</td>\n",
              "    </tr>\n",
              "    <tr>\n",
              "      <th>4</th>\n",
              "      <td>Massachusetts</td>\n",
              "      <td>41722</td>\n",
              "    </tr>\n",
              "    <tr>\n",
              "      <th>5</th>\n",
              "      <td>Pennsylvania</td>\n",
              "      <td>39957</td>\n",
              "    </tr>\n",
              "    <tr>\n",
              "      <th>6</th>\n",
              "      <td>Louisiana</td>\n",
              "      <td>38448</td>\n",
              "    </tr>\n",
              "    <tr>\n",
              "      <th>7</th>\n",
              "      <td>Florida</td>\n",
              "      <td>35978</td>\n",
              "    </tr>\n",
              "    <tr>\n",
              "      <th>8</th>\n",
              "      <td>Illinois</td>\n",
              "      <td>35688</td>\n",
              "    </tr>\n",
              "    <tr>\n",
              "      <th>9</th>\n",
              "      <td>Georgia</td>\n",
              "      <td>25706</td>\n",
              "    </tr>\n",
              "    <tr>\n",
              "      <th>10</th>\n",
              "      <td>Texas</td>\n",
              "      <td>23703</td>\n",
              "    </tr>\n",
              "    <tr>\n",
              "      <th>11</th>\n",
              "      <td>Connecticut</td>\n",
              "      <td>20669</td>\n",
              "    </tr>\n",
              "    <tr>\n",
              "      <th>12</th>\n",
              "      <td>Washington</td>\n",
              "      <td>18821</td>\n",
              "    </tr>\n",
              "    <tr>\n",
              "      <th>13</th>\n",
              "      <td>Indiana</td>\n",
              "      <td>14298</td>\n",
              "    </tr>\n",
              "    <tr>\n",
              "      <th>14</th>\n",
              "      <td>Maryland</td>\n",
              "      <td>13936</td>\n",
              "    </tr>\n",
              "    <tr>\n",
              "      <th>15</th>\n",
              "      <td>Colorado</td>\n",
              "      <td>12685</td>\n",
              "    </tr>\n",
              "    <tr>\n",
              "      <th>16</th>\n",
              "      <td>Ohio</td>\n",
              "      <td>11756</td>\n",
              "    </tr>\n",
              "    <tr>\n",
              "      <th>17</th>\n",
              "      <td>Tennessee</td>\n",
              "      <td>9453</td>\n",
              "    </tr>\n",
              "    <tr>\n",
              "      <th>18</th>\n",
              "      <td>Virginia</td>\n",
              "      <td>9014</td>\n",
              "    </tr>\n",
              "    <tr>\n",
              "      <th>19</th>\n",
              "      <td>Alabama</td>\n",
              "      <td>8159</td>\n",
              "    </tr>\n",
              "    <tr>\n",
              "      <th>20</th>\n",
              "      <td>North Carolina</td>\n",
              "      <td>7814</td>\n",
              "    </tr>\n",
              "    <tr>\n",
              "      <th>21</th>\n",
              "      <td>Missouri</td>\n",
              "      <td>7593</td>\n",
              "    </tr>\n",
              "    <tr>\n",
              "      <th>22</th>\n",
              "      <td>Wisconsin</td>\n",
              "      <td>6733</td>\n",
              "    </tr>\n",
              "    <tr>\n",
              "      <th>23</th>\n",
              "      <td>Arizona</td>\n",
              "      <td>6223</td>\n",
              "    </tr>\n",
              "    <tr>\n",
              "      <th>24</th>\n",
              "      <td>South Carolina</td>\n",
              "      <td>6129</td>\n",
              "    </tr>\n",
              "    <tr>\n",
              "      <th>25</th>\n",
              "      <td>Nevada</td>\n",
              "      <td>5190</td>\n",
              "    </tr>\n",
              "    <tr>\n",
              "      <th>26</th>\n",
              "      <td>Mississippi</td>\n",
              "      <td>4934</td>\n",
              "    </tr>\n",
              "    <tr>\n",
              "      <th>27</th>\n",
              "      <td>Utah</td>\n",
              "      <td>4203</td>\n",
              "    </tr>\n",
              "    <tr>\n",
              "      <th>28</th>\n",
              "      <td>Rhode Island</td>\n",
              "      <td>3869</td>\n",
              "    </tr>\n",
              "    <tr>\n",
              "      <th>29</th>\n",
              "      <td>Oklahoma</td>\n",
              "      <td>3583</td>\n",
              "    </tr>\n",
              "    <tr>\n",
              "      <th>30</th>\n",
              "      <td>District of Columbia</td>\n",
              "      <td>3438</td>\n",
              "    </tr>\n",
              "    <tr>\n",
              "      <th>31</th>\n",
              "      <td>Kentucky</td>\n",
              "      <td>3352</td>\n",
              "    </tr>\n",
              "    <tr>\n",
              "      <th>32</th>\n",
              "      <td>Minnesota</td>\n",
              "      <td>2972</td>\n",
              "    </tr>\n",
              "    <tr>\n",
              "      <th>33</th>\n",
              "      <td>Delaware</td>\n",
              "      <td>2793</td>\n",
              "    </tr>\n",
              "    <tr>\n",
              "      <th>34</th>\n",
              "      <td>Iowa</td>\n",
              "      <td>2776</td>\n",
              "    </tr>\n",
              "    <tr>\n",
              "      <th>35</th>\n",
              "      <td>Idaho</td>\n",
              "      <td>2749</td>\n",
              "    </tr>\n",
              "    <tr>\n",
              "      <th>36</th>\n",
              "      <td>Oregon</td>\n",
              "      <td>2692</td>\n",
              "    </tr>\n",
              "    <tr>\n",
              "      <th>37</th>\n",
              "      <td>Arkansas</td>\n",
              "      <td>2356</td>\n",
              "    </tr>\n",
              "    <tr>\n",
              "      <th>38</th>\n",
              "      <td>Kansas</td>\n",
              "      <td>2328</td>\n",
              "    </tr>\n",
              "    <tr>\n",
              "      <th>39</th>\n",
              "      <td>New Mexico</td>\n",
              "      <td>2181</td>\n",
              "    </tr>\n",
              "    <tr>\n",
              "      <th>40</th>\n",
              "      <td>New Hampshire</td>\n",
              "      <td>1704</td>\n",
              "    </tr>\n",
              "    <tr>\n",
              "      <th>41</th>\n",
              "      <td>Vermont</td>\n",
              "      <td>1333</td>\n",
              "    </tr>\n",
              "    <tr>\n",
              "      <th>42</th>\n",
              "      <td>Nebraska</td>\n",
              "      <td>1279</td>\n",
              "    </tr>\n",
              "    <tr>\n",
              "      <th>43</th>\n",
              "      <td>Maine</td>\n",
              "      <td>1168</td>\n",
              "    </tr>\n",
              "    <tr>\n",
              "      <th>44</th>\n",
              "      <td>West Virginia</td>\n",
              "      <td>1127</td>\n",
              "    </tr>\n",
              "    <tr>\n",
              "      <th>45</th>\n",
              "      <td>South Dakota</td>\n",
              "      <td>1069</td>\n",
              "    </tr>\n",
              "  </tbody>\n",
              "</table>\n",
              "</div>"
            ],
            "text/plain": [
              "                   state  total_confirmed_cases\n",
              "0               New York                 483142\n",
              "1             New Jersey                 108527\n",
              "2               Michigan                  52383\n",
              "3             California                  43177\n",
              "4          Massachusetts                  41722\n",
              "5           Pennsylvania                  39957\n",
              "6              Louisiana                  38448\n",
              "7                Florida                  35978\n",
              "8               Illinois                  35688\n",
              "9                Georgia                  25706\n",
              "10                 Texas                  23703\n",
              "11           Connecticut                  20669\n",
              "12            Washington                  18821\n",
              "13               Indiana                  14298\n",
              "14              Maryland                  13936\n",
              "15              Colorado                  12685\n",
              "16                  Ohio                  11756\n",
              "17             Tennessee                   9453\n",
              "18              Virginia                   9014\n",
              "19               Alabama                   8159\n",
              "20        North Carolina                   7814\n",
              "21              Missouri                   7593\n",
              "22             Wisconsin                   6733\n",
              "23               Arizona                   6223\n",
              "24        South Carolina                   6129\n",
              "25                Nevada                   5190\n",
              "26           Mississippi                   4934\n",
              "27                  Utah                   4203\n",
              "28          Rhode Island                   3869\n",
              "29              Oklahoma                   3583\n",
              "30  District of Columbia                   3438\n",
              "31              Kentucky                   3352\n",
              "32             Minnesota                   2972\n",
              "33              Delaware                   2793\n",
              "34                  Iowa                   2776\n",
              "35                 Idaho                   2749\n",
              "36                Oregon                   2692\n",
              "37              Arkansas                   2356\n",
              "38                Kansas                   2328\n",
              "39            New Mexico                   2181\n",
              "40         New Hampshire                   1704\n",
              "41               Vermont                   1333\n",
              "42              Nebraska                   1279\n",
              "43                 Maine                   1168\n",
              "44         West Virginia                   1127\n",
              "45          South Dakota                   1069"
            ]
          },
          "metadata": {
            "tags": []
          },
          "execution_count": 7
        }
      ]
    },
    {
      "cell_type": "markdown",
      "metadata": {
        "id": "pvpTPx2COksc"
      },
      "source": [
        "### Query 4: Fatality Ratio"
      ]
    },
    {
      "cell_type": "code",
      "metadata": {
        "colab": {
          "base_uri": "https://localhost:8080/",
          "height": 79
        },
        "id": "Smll0XQrOulu",
        "outputId": "28b8fa28-2603-4c3f-bb8f-bca7f91c3131"
      },
      "source": [
        "query = syntax.sql('''\r\n",
        "SELECT SUM(cumulative_confirmed) AS total_confirmed_cases, SUM(cumulative_deceased) AS total_deaths, (SUM(cumulative_deceased)/SUM(cumulative_confirmed))*100 AS case_fatality_ratio\r\n",
        "FROM `bigquery-public-data.covid19_open_data.covid19_open_data`\r\n",
        "WHERE country_name=\"Italy\" AND date BETWEEN \"2020-04-01\" AND \"2020-04-30\"\r\n",
        "''')\r\n",
        "pd.io.gbq.read_gbq(query, project_id=project_id, dialect='standard')"
      ],
      "execution_count": 8,
      "outputs": [
        {
          "output_type": "execute_result",
          "data": {
            "text/html": [
              "<div>\n",
              "<style scoped>\n",
              "    .dataframe tbody tr th:only-of-type {\n",
              "        vertical-align: middle;\n",
              "    }\n",
              "\n",
              "    .dataframe tbody tr th {\n",
              "        vertical-align: top;\n",
              "    }\n",
              "\n",
              "    .dataframe thead th {\n",
              "        text-align: right;\n",
              "    }\n",
              "</style>\n",
              "<table border=\"1\" class=\"dataframe\">\n",
              "  <thead>\n",
              "    <tr style=\"text-align: right;\">\n",
              "      <th></th>\n",
              "      <th>total_confirmed_cases</th>\n",
              "      <th>total_deaths</th>\n",
              "      <th>case_fatality_ratio</th>\n",
              "    </tr>\n",
              "  </thead>\n",
              "  <tbody>\n",
              "    <tr>\n",
              "      <th>0</th>\n",
              "      <td>14452840</td>\n",
              "      <td>1288342</td>\n",
              "      <td>8.91411</td>\n",
              "    </tr>\n",
              "  </tbody>\n",
              "</table>\n",
              "</div>"
            ],
            "text/plain": [
              "   total_confirmed_cases  total_deaths  case_fatality_ratio\n",
              "0               14452840       1288342              8.91411"
            ]
          },
          "metadata": {
            "tags": []
          },
          "execution_count": 8
        }
      ]
    },
    {
      "cell_type": "markdown",
      "metadata": {
        "id": "BDW0d1C8QQxn"
      },
      "source": [
        "### Query 5: Identifying specific day"
      ]
    },
    {
      "cell_type": "code",
      "metadata": {
        "colab": {
          "base_uri": "https://localhost:8080/",
          "height": 79
        },
        "id": "wxD3F3zVQb81",
        "outputId": "d2c40dc3-c65d-40a5-fa4b-6d929791fca3"
      },
      "source": [
        "query = syntax.sql('''\r\n",
        "SELECT\r\n",
        " date\r\n",
        "FROM\r\n",
        "  `bigquery-public-data.covid19_open_data.covid19_open_data`\r\n",
        "WHERE\r\n",
        " country_name = 'Italy'\r\n",
        " AND cumulative_deceased > 10000\r\n",
        "ORDER BY date\r\n",
        "LIMIT 1\r\n",
        "''')\r\n",
        "pd.io.gbq.read_gbq(query, project_id=project_id, dialect='standard')"
      ],
      "execution_count": 9,
      "outputs": [
        {
          "output_type": "execute_result",
          "data": {
            "text/html": [
              "<div>\n",
              "<style scoped>\n",
              "    .dataframe tbody tr th:only-of-type {\n",
              "        vertical-align: middle;\n",
              "    }\n",
              "\n",
              "    .dataframe tbody tr th {\n",
              "        vertical-align: top;\n",
              "    }\n",
              "\n",
              "    .dataframe thead th {\n",
              "        text-align: right;\n",
              "    }\n",
              "</style>\n",
              "<table border=\"1\" class=\"dataframe\">\n",
              "  <thead>\n",
              "    <tr style=\"text-align: right;\">\n",
              "      <th></th>\n",
              "      <th>date</th>\n",
              "    </tr>\n",
              "  </thead>\n",
              "  <tbody>\n",
              "    <tr>\n",
              "      <th>0</th>\n",
              "      <td>2020-03-28</td>\n",
              "    </tr>\n",
              "  </tbody>\n",
              "</table>\n",
              "</div>"
            ],
            "text/plain": [
              "        date\n",
              "0 2020-03-28"
            ]
          },
          "metadata": {
            "tags": []
          },
          "execution_count": 9
        }
      ]
    },
    {
      "cell_type": "markdown",
      "metadata": {
        "id": "Z5-ZCuAwQnXr"
      },
      "source": [
        "### Query 6: Finding days with zero net new cases"
      ]
    },
    {
      "cell_type": "code",
      "metadata": {
        "colab": {
          "base_uri": "https://localhost:8080/",
          "height": 79
        },
        "id": "7UBFgUk7QoH_",
        "outputId": "11fa7b72-3014-46ae-8f37-ec10ef201112"
      },
      "source": [
        "query = syntax.sql('''\r\n",
        "WITH us_cases_by_date AS (\r\n",
        "  SELECT\r\n",
        "    date,\r\n",
        "    SUM(cumulative_confirmed) AS cases\r\n",
        "  FROM\r\n",
        "    `bigquery-public-data.covid19_open_data.covid19_open_data`\r\n",
        "  WHERE\r\n",
        "    country_name=\"United States of America\"\r\n",
        "    AND date between '2020-02-21' and '2020-03-15'\r\n",
        "  GROUP BY\r\n",
        "    date\r\n",
        "  ORDER BY\r\n",
        "    date ASC\r\n",
        " )\r\n",
        "\r\n",
        ", us_previous_day_comparison AS\r\n",
        "(SELECT\r\n",
        "  date,\r\n",
        "  cases,\r\n",
        "  LAG(cases) OVER(ORDER BY date) AS previous_day,\r\n",
        "  cases - LAG(cases) OVER(ORDER BY date) AS net_new_cases\r\n",
        "FROM us_cases_by_date\r\n",
        ")\r\n",
        "SELECT\r\n",
        "  COUNT(date)\r\n",
        "FROM\r\n",
        "  us_previous_day_comparison\r\n",
        "WHERE\r\n",
        "  net_new_cases = 0\r\n",
        "''')\r\n",
        "pd.io.gbq.read_gbq(query, project_id=project_id, dialect='standard')"
      ],
      "execution_count": 11,
      "outputs": [
        {
          "output_type": "execute_result",
          "data": {
            "text/html": [
              "<div>\n",
              "<style scoped>\n",
              "    .dataframe tbody tr th:only-of-type {\n",
              "        vertical-align: middle;\n",
              "    }\n",
              "\n",
              "    .dataframe tbody tr th {\n",
              "        vertical-align: top;\n",
              "    }\n",
              "\n",
              "    .dataframe thead th {\n",
              "        text-align: right;\n",
              "    }\n",
              "</style>\n",
              "<table border=\"1\" class=\"dataframe\">\n",
              "  <thead>\n",
              "    <tr style=\"text-align: right;\">\n",
              "      <th></th>\n",
              "      <th>f0_</th>\n",
              "    </tr>\n",
              "  </thead>\n",
              "  <tbody>\n",
              "    <tr>\n",
              "      <th>0</th>\n",
              "      <td>0</td>\n",
              "    </tr>\n",
              "  </tbody>\n",
              "</table>\n",
              "</div>"
            ],
            "text/plain": [
              "   f0_\n",
              "0    0"
            ]
          },
          "metadata": {
            "tags": []
          },
          "execution_count": 11
        }
      ]
    },
    {
      "cell_type": "markdown",
      "metadata": {
        "id": "VNfI8WAfQpnh"
      },
      "source": [
        "### Query 7: Doubling rate"
      ]
    },
    {
      "cell_type": "code",
      "metadata": {
        "colab": {
          "base_uri": "https://localhost:8080/",
          "height": 447
        },
        "id": "6DULAFHpQrD-",
        "outputId": "177ceba1-b1d6-4c92-b39d-7fb4a28ec5f3"
      },
      "source": [
        "query = syntax.sql('''\r\n",
        "WITH us_cases_by_date AS (\r\n",
        "  SELECT\r\n",
        "    date,\r\n",
        "    SUM( cumulative_confirmed ) AS cases\r\n",
        "  FROM\r\n",
        "    `bigquery-public-data.covid19_open_data.covid19_open_data`\r\n",
        "  WHERE\r\n",
        "    country_name=\"United States of America\"\r\n",
        "    AND date between '2020-03-22' and '2020-04-20'\r\n",
        "  GROUP BY\r\n",
        "    date\r\n",
        "  ORDER BY\r\n",
        "    date ASC\r\n",
        " )\r\n",
        "\r\n",
        ", us_previous_day_comparison AS\r\n",
        "(SELECT\r\n",
        "  date,\r\n",
        "  cases,\r\n",
        "  LAG(cases) OVER(ORDER BY date) AS previous_day,\r\n",
        "  cases - LAG(cases) OVER(ORDER BY date) AS net_new_cases,\r\n",
        "  (cases - LAG(cases) OVER(ORDER BY date))*100/LAG(cases) OVER(ORDER BY date) AS percentage_increase\r\n",
        "FROM us_cases_by_date\r\n",
        ")\r\n",
        "SELECT\r\n",
        "  Date,\r\n",
        "  cases AS Confirmed_Cases_On_Day,\r\n",
        "  previous_day AS Confirmed_Cases_Previous_Day,\r\n",
        "  percentage_increase AS Percentage_Increase_In_Cases\r\n",
        "FROM\r\n",
        "  us_previous_day_comparison\r\n",
        "WHERE\r\n",
        "  percentage_increase > 10\r\n",
        "''')\r\n",
        "pd.io.gbq.read_gbq(query, project_id=project_id, dialect='standard')"
      ],
      "execution_count": 12,
      "outputs": [
        {
          "output_type": "execute_result",
          "data": {
            "text/html": [
              "<div>\n",
              "<style scoped>\n",
              "    .dataframe tbody tr th:only-of-type {\n",
              "        vertical-align: middle;\n",
              "    }\n",
              "\n",
              "    .dataframe tbody tr th {\n",
              "        vertical-align: top;\n",
              "    }\n",
              "\n",
              "    .dataframe thead th {\n",
              "        text-align: right;\n",
              "    }\n",
              "</style>\n",
              "<table border=\"1\" class=\"dataframe\">\n",
              "  <thead>\n",
              "    <tr style=\"text-align: right;\">\n",
              "      <th></th>\n",
              "      <th>Date</th>\n",
              "      <th>Confirmed_Cases_On_Day</th>\n",
              "      <th>Confirmed_Cases_Previous_Day</th>\n",
              "      <th>Percentage_Increase_In_Cases</th>\n",
              "    </tr>\n",
              "  </thead>\n",
              "  <tbody>\n",
              "    <tr>\n",
              "      <th>0</th>\n",
              "      <td>2020-03-28</td>\n",
              "      <td>446563</td>\n",
              "      <td>385972</td>\n",
              "      <td>15.698289</td>\n",
              "    </tr>\n",
              "    <tr>\n",
              "      <th>1</th>\n",
              "      <td>2020-03-24</td>\n",
              "      <td>234093</td>\n",
              "      <td>189798</td>\n",
              "      <td>23.337970</td>\n",
              "    </tr>\n",
              "    <tr>\n",
              "      <th>2</th>\n",
              "      <td>2020-04-01</td>\n",
              "      <td>744592</td>\n",
              "      <td>659811</td>\n",
              "      <td>12.849286</td>\n",
              "    </tr>\n",
              "    <tr>\n",
              "      <th>3</th>\n",
              "      <td>2020-04-02</td>\n",
              "      <td>838491</td>\n",
              "      <td>744592</td>\n",
              "      <td>12.610799</td>\n",
              "    </tr>\n",
              "    <tr>\n",
              "      <th>4</th>\n",
              "      <td>2020-03-31</td>\n",
              "      <td>659811</td>\n",
              "      <td>579755</td>\n",
              "      <td>13.808592</td>\n",
              "    </tr>\n",
              "    <tr>\n",
              "      <th>5</th>\n",
              "      <td>2020-03-25</td>\n",
              "      <td>265881</td>\n",
              "      <td>234093</td>\n",
              "      <td>13.579219</td>\n",
              "    </tr>\n",
              "    <tr>\n",
              "      <th>6</th>\n",
              "      <td>2020-03-27</td>\n",
              "      <td>385972</td>\n",
              "      <td>323594</td>\n",
              "      <td>19.276624</td>\n",
              "    </tr>\n",
              "    <tr>\n",
              "      <th>7</th>\n",
              "      <td>2020-04-04</td>\n",
              "      <td>1043776</td>\n",
              "      <td>941748</td>\n",
              "      <td>10.833896</td>\n",
              "    </tr>\n",
              "    <tr>\n",
              "      <th>8</th>\n",
              "      <td>2020-04-03</td>\n",
              "      <td>941748</td>\n",
              "      <td>838491</td>\n",
              "      <td>12.314622</td>\n",
              "    </tr>\n",
              "    <tr>\n",
              "      <th>9</th>\n",
              "      <td>2020-03-23</td>\n",
              "      <td>189798</td>\n",
              "      <td>164112</td>\n",
              "      <td>15.651506</td>\n",
              "    </tr>\n",
              "    <tr>\n",
              "      <th>10</th>\n",
              "      <td>2020-03-29</td>\n",
              "      <td>506780</td>\n",
              "      <td>446563</td>\n",
              "      <td>13.484548</td>\n",
              "    </tr>\n",
              "    <tr>\n",
              "      <th>11</th>\n",
              "      <td>2020-03-30</td>\n",
              "      <td>579755</td>\n",
              "      <td>506780</td>\n",
              "      <td>14.399740</td>\n",
              "    </tr>\n",
              "    <tr>\n",
              "      <th>12</th>\n",
              "      <td>2020-03-26</td>\n",
              "      <td>323594</td>\n",
              "      <td>265881</td>\n",
              "      <td>21.706327</td>\n",
              "    </tr>\n",
              "  </tbody>\n",
              "</table>\n",
              "</div>"
            ],
            "text/plain": [
              "         Date  ...  Percentage_Increase_In_Cases\n",
              "0  2020-03-28  ...                     15.698289\n",
              "1  2020-03-24  ...                     23.337970\n",
              "2  2020-04-01  ...                     12.849286\n",
              "3  2020-04-02  ...                     12.610799\n",
              "4  2020-03-31  ...                     13.808592\n",
              "5  2020-03-25  ...                     13.579219\n",
              "6  2020-03-27  ...                     19.276624\n",
              "7  2020-04-04  ...                     10.833896\n",
              "8  2020-04-03  ...                     12.314622\n",
              "9  2020-03-23  ...                     15.651506\n",
              "10 2020-03-29  ...                     13.484548\n",
              "11 2020-03-30  ...                     14.399740\n",
              "12 2020-03-26  ...                     21.706327\n",
              "\n",
              "[13 rows x 4 columns]"
            ]
          },
          "metadata": {
            "tags": []
          },
          "execution_count": 12
        }
      ]
    },
    {
      "cell_type": "markdown",
      "metadata": {
        "id": "bhds8tdb1rnQ"
      },
      "source": [
        "### Query 8: Recovery rate"
      ]
    },
    {
      "cell_type": "code",
      "metadata": {
        "id": "UEdhoEZv1wDI",
        "outputId": "908a899b-b69d-4c56-e5a1-befc6e7ac6e4",
        "colab": {
          "base_uri": "https://localhost:8080/",
          "height": 355
        }
      },
      "source": [
        "query = syntax.sql('''\r\n",
        "WITH cases_by_country AS (\r\n",
        "  SELECT\r\n",
        "    country_name AS country,\r\n",
        "    SUM(cumulative_confirmed) AS cases,\r\n",
        "    SUM(cumulative_recovered) AS recovered_cases\r\n",
        "  FROM\r\n",
        "    `bigquery-public-data.covid19_open_data.covid19_open_data`\r\n",
        "  WHERE\r\n",
        "    date=\"2020-05-10\"\r\n",
        "  GROUP BY\r\n",
        "    country_name\r\n",
        ")\r\n",
        "\r\n",
        ", recovered_rate AS (\r\n",
        "  SELECT\r\n",
        "    country, cases, recovered_cases,\r\n",
        "    (recovered_cases * 100)/cases AS recovery_rate\r\n",
        "  FROM\r\n",
        "    cases_by_country\r\n",
        ")\r\n",
        "\r\n",
        "SELECT country, cases AS confirmed_cases, recovered_cases, recovery_rate\r\n",
        "FROM\r\n",
        "   recovered_rate\r\n",
        "WHERE\r\n",
        "   cases > 50000\r\n",
        "ORDER BY recovery_rate DESC\r\n",
        "LIMIT 10\r\n",
        "\r\n",
        "''')\r\n",
        "pd.io.gbq.read_gbq(query, project_id=project_id, dialect='standard')"
      ],
      "execution_count": 13,
      "outputs": [
        {
          "output_type": "execute_result",
          "data": {
            "text/html": [
              "<div>\n",
              "<style scoped>\n",
              "    .dataframe tbody tr th:only-of-type {\n",
              "        vertical-align: middle;\n",
              "    }\n",
              "\n",
              "    .dataframe tbody tr th {\n",
              "        vertical-align: top;\n",
              "    }\n",
              "\n",
              "    .dataframe thead th {\n",
              "        text-align: right;\n",
              "    }\n",
              "</style>\n",
              "<table border=\"1\" class=\"dataframe\">\n",
              "  <thead>\n",
              "    <tr style=\"text-align: right;\">\n",
              "      <th></th>\n",
              "      <th>country</th>\n",
              "      <th>confirmed_cases</th>\n",
              "      <th>recovered_cases</th>\n",
              "      <th>recovery_rate</th>\n",
              "    </tr>\n",
              "  </thead>\n",
              "  <tbody>\n",
              "    <tr>\n",
              "      <th>0</th>\n",
              "      <td>France</td>\n",
              "      <td>216220</td>\n",
              "      <td>4566869</td>\n",
              "      <td>2112.139950</td>\n",
              "    </tr>\n",
              "    <tr>\n",
              "      <th>1</th>\n",
              "      <td>China</td>\n",
              "      <td>156251</td>\n",
              "      <td>146635</td>\n",
              "      <td>93.845799</td>\n",
              "    </tr>\n",
              "    <tr>\n",
              "      <th>2</th>\n",
              "      <td>Germany</td>\n",
              "      <td>424619</td>\n",
              "      <td>241015</td>\n",
              "      <td>56.760296</td>\n",
              "    </tr>\n",
              "    <tr>\n",
              "      <th>3</th>\n",
              "      <td>Italy</td>\n",
              "      <td>643471</td>\n",
              "      <td>210372</td>\n",
              "      <td>32.693315</td>\n",
              "    </tr>\n",
              "    <tr>\n",
              "      <th>4</th>\n",
              "      <td>Canada</td>\n",
              "      <td>207551</td>\n",
              "      <td>64192</td>\n",
              "      <td>30.928302</td>\n",
              "    </tr>\n",
              "    <tr>\n",
              "      <th>5</th>\n",
              "      <td>Philippines</td>\n",
              "      <td>58247</td>\n",
              "      <td>15563</td>\n",
              "      <td>26.718973</td>\n",
              "    </tr>\n",
              "    <tr>\n",
              "      <th>6</th>\n",
              "      <td>Chile</td>\n",
              "      <td>57674</td>\n",
              "      <td>13112</td>\n",
              "      <td>22.734681</td>\n",
              "    </tr>\n",
              "    <tr>\n",
              "      <th>7</th>\n",
              "      <td>India</td>\n",
              "      <td>196665</td>\n",
              "      <td>38939</td>\n",
              "      <td>19.799659</td>\n",
              "    </tr>\n",
              "    <tr>\n",
              "      <th>8</th>\n",
              "      <td>Brazil</td>\n",
              "      <td>571697</td>\n",
              "      <td>64957</td>\n",
              "      <td>11.362138</td>\n",
              "    </tr>\n",
              "    <tr>\n",
              "      <th>9</th>\n",
              "      <td>Switzerland</td>\n",
              "      <td>59967</td>\n",
              "      <td>3866</td>\n",
              "      <td>6.446879</td>\n",
              "    </tr>\n",
              "  </tbody>\n",
              "</table>\n",
              "</div>"
            ],
            "text/plain": [
              "       country  confirmed_cases  recovered_cases  recovery_rate\n",
              "0       France           216220          4566869    2112.139950\n",
              "1        China           156251           146635      93.845799\n",
              "2      Germany           424619           241015      56.760296\n",
              "3        Italy           643471           210372      32.693315\n",
              "4       Canada           207551            64192      30.928302\n",
              "5  Philippines            58247            15563      26.718973\n",
              "6        Chile            57674            13112      22.734681\n",
              "7        India           196665            38939      19.799659\n",
              "8       Brazil           571697            64957      11.362138\n",
              "9  Switzerland            59967             3866       6.446879"
            ]
          },
          "metadata": {
            "tags": []
          },
          "execution_count": 13
        }
      ]
    },
    {
      "cell_type": "markdown",
      "metadata": {
        "id": "ftGbcNAL19Fz"
      },
      "source": [
        "### Query 9: CDGR - Cumulative Daily Growth Rate"
      ]
    },
    {
      "cell_type": "code",
      "metadata": {
        "id": "urlsyrjq2MI1",
        "outputId": "0ebf91a2-ce53-4cba-99a6-955989f87f44",
        "colab": {
          "base_uri": "https://localhost:8080/",
          "height": 79
        }
      },
      "source": [
        "query = syntax.sql('''\r\n",
        "WITH\r\n",
        "  france_cases AS (\r\n",
        "  SELECT\r\n",
        "    date,\r\n",
        "    SUM(cumulative_confirmed) AS total_cases\r\n",
        "  FROM\r\n",
        "    `bigquery-public-data.covid19_open_data.covid19_open_data`\r\n",
        "  WHERE\r\n",
        "    country_name=\"France\"\r\n",
        "    AND date IN ('2020-01-24',\r\n",
        "      '2020-05-10')\r\n",
        "  GROUP BY\r\n",
        "    date\r\n",
        "  ORDER BY\r\n",
        "    date)\r\n",
        ", summary as (\r\n",
        "SELECT\r\n",
        "  total_cases AS first_day_cases,\r\n",
        "  LEAD(total_cases) OVER(ORDER BY date) AS last_day_cases,\r\n",
        "  DATE_DIFF(LEAD(date) OVER(ORDER BY date),date, day) AS days_diff\r\n",
        "FROM\r\n",
        "  france_cases\r\n",
        "LIMIT 1\r\n",
        ")\r\n",
        "\r\n",
        "select first_day_cases, last_day_cases, days_diff, POWER(last_day_cases/first_day_cases,1/days_diff)-1 as cdgr\r\n",
        "from summary\r\n",
        "''')\r\n",
        "pd.io.gbq.read_gbq(query, project_id=project_id, dialect='standard')"
      ],
      "execution_count": 14,
      "outputs": [
        {
          "output_type": "execute_result",
          "data": {
            "text/html": [
              "<div>\n",
              "<style scoped>\n",
              "    .dataframe tbody tr th:only-of-type {\n",
              "        vertical-align: middle;\n",
              "    }\n",
              "\n",
              "    .dataframe tbody tr th {\n",
              "        vertical-align: top;\n",
              "    }\n",
              "\n",
              "    .dataframe thead th {\n",
              "        text-align: right;\n",
              "    }\n",
              "</style>\n",
              "<table border=\"1\" class=\"dataframe\">\n",
              "  <thead>\n",
              "    <tr style=\"text-align: right;\">\n",
              "      <th></th>\n",
              "      <th>first_day_cases</th>\n",
              "      <th>last_day_cases</th>\n",
              "      <th>days_diff</th>\n",
              "      <th>cdgr</th>\n",
              "    </tr>\n",
              "  </thead>\n",
              "  <tbody>\n",
              "    <tr>\n",
              "      <th>0</th>\n",
              "      <td>3</td>\n",
              "      <td>216220</td>\n",
              "      <td>107</td>\n",
              "      <td>0.110196</td>\n",
              "    </tr>\n",
              "  </tbody>\n",
              "</table>\n",
              "</div>"
            ],
            "text/plain": [
              "   first_day_cases  last_day_cases  days_diff      cdgr\n",
              "0                3          216220        107  0.110196"
            ]
          },
          "metadata": {
            "tags": []
          },
          "execution_count": 14
        }
      ]
    },
    {
      "cell_type": "markdown",
      "metadata": {
        "id": "ZTF3qUTQ2ZTL"
      },
      "source": [
        "### Create a Datastudio report"
      ]
    },
    {
      "cell_type": "code",
      "metadata": {
        "id": "FJB6hkLE2fv3",
        "outputId": "109e4024-a6d4-4534-dac3-17c93befaa2f",
        "colab": {
          "base_uri": "https://localhost:8080/",
          "height": 570
        }
      },
      "source": [
        "query = syntax.sql('''\r\n",
        "SELECT\r\n",
        "  date, SUM(cumulative_confirmed) AS country_cases,\r\n",
        "  SUM(cumulative_deceased) AS country_deaths\r\n",
        "FROM\r\n",
        "  `bigquery-public-data.covid19_open_data.covid19_open_data`\r\n",
        "WHERE\r\n",
        "  date BETWEEN '2020-03-15'\r\n",
        "  AND '2020-04-30'\r\n",
        "  AND country_name='United States of America'\r\n",
        "GROUP BY date\r\n",
        "''')\r\n",
        "df = pd.io.gbq.read_gbq(query, project_id=project_id, dialect='standard')\r\n",
        "\r\n",
        "ax = df.plot(kind='bar',x='date',y='country_deaths',figsize=(15,7))\r\n",
        "ax.set_title('deaths')\r\n",
        "ax.set_xlabel('date')\r\n",
        "ax.set_ylabel('deaths')"
      ],
      "execution_count": 23,
      "outputs": [
        {
          "output_type": "execute_result",
          "data": {
            "text/plain": [
              "Text(0, 0.5, 'deaths')"
            ]
          },
          "metadata": {
            "tags": []
          },
          "execution_count": 23
        },
        {
          "output_type": "display_data",
          "data": {
            "image/png": "[encoded data removed]",
            "text/plain": [
              "<Figure size 1080x504 with 1 Axes>"
            ]
          },
          "metadata": {
            "tags": [],
            "needs_background": "light"
          }
        }
      ]
    }
  ]
}
